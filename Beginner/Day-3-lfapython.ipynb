{
 "cells": [
  {
   "cell_type": "markdown",
   "metadata": {},
   "source": [
    "# Day 3\n",
    "---\n",
    "\n",
    "Problem: Determine frequency of words for given paragraph.\n",
    "\n",
    "Uses:\n",
    "\n",
    "- Dictionary\n",
    "- List\n",
    "- String Functions\n",
    "- White Loop / For Loop\n",
    "- If Condition"
   ]
  },
  {
   "cell_type": "code",
   "execution_count": 1,
   "metadata": {
    "collapsed": true
   },
   "outputs": [],
   "source": [
    "paragraph = '''' Gregor then turned to look out the window at the dull weather.\n",
    "Drops of rain could be heard hitting the pane, which made him feel\n",
    "quite sad.  \"How about if I sleep a little bit longer and forget all\n",
    "this nonsense\", he thought, but that was something he was unable to\n",
    "do because he was used to sleeping on his right, and in his present\n",
    "state couldn't get into that position.  However hard he threw\n",
    "himself onto his right, he always rolled back to where he was.  He\n",
    "must have tried it a hundred times, shut his eyes so that he\n",
    "wouldn't have to look at the floundering legs, and only stopped when\n",
    "he began to feel a mild, dull pain there that he had never felt\n",
    "before.\n",
    " '''"
   ]
  },
  {
   "cell_type": "code",
   "execution_count": 2,
   "metadata": {
    "collapsed": true
   },
   "outputs": [],
   "source": [
    "words=paragraph.split()"
   ]
  },
  {
   "cell_type": "code",
   "execution_count": 4,
   "metadata": {
    "collapsed": false
   },
   "outputs": [
    {
     "data": {
      "text/plain": [
       "[\"'\",\n",
       " 'Gregor',\n",
       " 'then',\n",
       " 'turned',\n",
       " 'to',\n",
       " 'look',\n",
       " 'out',\n",
       " 'the',\n",
       " 'window',\n",
       " 'at',\n",
       " 'the',\n",
       " 'dull',\n",
       " 'weather.',\n",
       " 'Drops',\n",
       " 'of',\n",
       " 'rain',\n",
       " 'could',\n",
       " 'be',\n",
       " 'heard',\n",
       " 'hitting',\n",
       " 'the',\n",
       " 'pane,',\n",
       " 'which',\n",
       " 'made',\n",
       " 'him',\n",
       " 'feel',\n",
       " 'quite',\n",
       " 'sad.',\n",
       " '\"How',\n",
       " 'about',\n",
       " 'if',\n",
       " 'I',\n",
       " 'sleep',\n",
       " 'a',\n",
       " 'little',\n",
       " 'bit',\n",
       " 'longer',\n",
       " 'and',\n",
       " 'forget',\n",
       " 'all',\n",
       " 'this',\n",
       " 'nonsense\",',\n",
       " 'he',\n",
       " 'thought,',\n",
       " 'but',\n",
       " 'that',\n",
       " 'was',\n",
       " 'something',\n",
       " 'he',\n",
       " 'was',\n",
       " 'unable',\n",
       " 'to',\n",
       " 'do',\n",
       " 'because',\n",
       " 'he',\n",
       " 'was',\n",
       " 'used',\n",
       " 'to',\n",
       " 'sleeping',\n",
       " 'on',\n",
       " 'his',\n",
       " 'right,',\n",
       " 'and',\n",
       " 'in',\n",
       " 'his',\n",
       " 'present',\n",
       " 'state',\n",
       " \"couldn't\",\n",
       " 'get',\n",
       " 'into',\n",
       " 'that',\n",
       " 'position.',\n",
       " 'However',\n",
       " 'hard',\n",
       " 'he',\n",
       " 'threw',\n",
       " 'himself',\n",
       " 'onto',\n",
       " 'his',\n",
       " 'right,',\n",
       " 'he',\n",
       " 'always',\n",
       " 'rolled',\n",
       " 'back',\n",
       " 'to',\n",
       " 'where',\n",
       " 'he',\n",
       " 'was.',\n",
       " 'He',\n",
       " 'must',\n",
       " 'have',\n",
       " 'tried',\n",
       " 'it',\n",
       " 'a',\n",
       " 'hundred',\n",
       " 'times,',\n",
       " 'shut',\n",
       " 'his',\n",
       " 'eyes',\n",
       " 'so',\n",
       " 'that',\n",
       " 'he',\n",
       " \"wouldn't\",\n",
       " 'have',\n",
       " 'to',\n",
       " 'look',\n",
       " 'at',\n",
       " 'the',\n",
       " 'floundering',\n",
       " 'legs,',\n",
       " 'and',\n",
       " 'only',\n",
       " 'stopped',\n",
       " 'when',\n",
       " 'he',\n",
       " 'began',\n",
       " 'to',\n",
       " 'feel',\n",
       " 'a',\n",
       " 'mild,',\n",
       " 'dull',\n",
       " 'pain',\n",
       " 'there',\n",
       " 'that',\n",
       " 'he',\n",
       " 'had',\n",
       " 'never',\n",
       " 'felt',\n",
       " 'before.']"
      ]
     },
     "execution_count": 4,
     "metadata": {},
     "output_type": "execute_result"
    }
   ],
   "source": [
    "words"
   ]
  },
  {
   "cell_type": "code",
   "execution_count": 9,
   "metadata": {
    "collapsed": false
   },
   "outputs": [
    {
     "name": "stdout",
     "output_type": "stream",
     "text": [
      "0 '\n",
      "1 Gregor\n",
      "2 then\n",
      "3 turned\n",
      "4 to\n",
      "5 look\n",
      "6 out\n",
      "7 the\n",
      "8 window\n",
      "9 at\n",
      "10 the\n",
      "11 dull\n",
      "12 weather.\n",
      "13 Drops\n",
      "14 of\n",
      "15 rain\n",
      "16 could\n",
      "17 be\n",
      "18 heard\n",
      "19 hitting\n",
      "20 the\n",
      "21 pane,\n",
      "22 which\n",
      "23 made\n",
      "24 him\n",
      "25 feel\n",
      "26 quite\n",
      "27 sad.\n",
      "28 \"How\n",
      "29 about\n",
      "30 if\n",
      "31 I\n",
      "32 sleep\n",
      "33 a\n",
      "34 little\n",
      "35 bit\n",
      "36 longer\n",
      "37 and\n",
      "38 forget\n",
      "39 all\n",
      "40 this\n",
      "41 nonsense\",\n",
      "42 he\n",
      "43 thought,\n",
      "44 but\n",
      "45 that\n",
      "46 was\n",
      "47 something\n",
      "48 he\n",
      "49 was\n",
      "50 unable\n",
      "51 to\n",
      "52 do\n",
      "53 because\n",
      "54 he\n",
      "55 was\n",
      "56 used\n",
      "57 to\n",
      "58 sleeping\n",
      "59 on\n",
      "60 his\n",
      "61 right,\n",
      "62 and\n",
      "63 in\n",
      "64 his\n",
      "65 present\n",
      "66 state\n",
      "67 couldn't\n",
      "68 get\n",
      "69 into\n",
      "70 that\n",
      "71 position.\n",
      "72 However\n",
      "73 hard\n",
      "74 he\n",
      "75 threw\n",
      "76 himself\n",
      "77 onto\n",
      "78 his\n",
      "79 right,\n",
      "80 he\n",
      "81 always\n",
      "82 rolled\n",
      "83 back\n",
      "84 to\n",
      "85 where\n",
      "86 he\n",
      "87 was.\n",
      "88 He\n",
      "89 must\n",
      "90 have\n",
      "91 tried\n",
      "92 it\n",
      "93 a\n",
      "94 hundred\n",
      "95 times,\n",
      "96 shut\n",
      "97 his\n",
      "98 eyes\n",
      "99 so\n",
      "100 that\n",
      "101 he\n",
      "102 wouldn't\n",
      "103 have\n",
      "104 to\n",
      "105 look\n",
      "106 at\n",
      "107 the\n",
      "108 floundering\n",
      "109 legs,\n",
      "110 and\n",
      "111 only\n",
      "112 stopped\n",
      "113 when\n",
      "114 he\n",
      "115 began\n",
      "116 to\n",
      "117 feel\n",
      "118 a\n",
      "119 mild,\n",
      "120 dull\n",
      "121 pain\n",
      "122 there\n",
      "123 that\n",
      "124 he\n",
      "125 had\n",
      "126 never\n",
      "127 felt\n",
      "128 before.\n",
      "Number of words 129\n"
     ]
    }
   ],
   "source": [
    "index = 0\n",
    "while index < len(words):\n",
    "    print(index, words[index])\n",
    "    index += 1\n",
    "print('Number of words', len(words))    \n",
    "     \n",
    "        "
   ]
  },
  {
   "cell_type": "code",
   "execution_count": 26,
   "metadata": {
    "collapsed": false
   },
   "outputs": [
    {
     "name": "stdout",
     "output_type": "stream",
     "text": [
      "{\"'\": 0, 'gregor': 0, 'then': 0, 'turned': 0, 'to': 0, 'look': 0, 'out': 0, 'the': 0, 'window': 0, 'at': 0, 'dull': 0, 'weather.': 0, 'drops': 0, 'of': 0, 'rain': 0, 'could': 0, 'be': 0, 'heard': 0, 'hitting': 0, 'pane,': 0, 'which': 0, 'made': 0, 'him': 0, 'feel': 0, 'quite': 0, 'sad.': 0, '\"how': 0, 'about': 0, 'if': 0, 'i': 0, 'sleep': 0, 'a': 0, 'little': 0, 'bit': 0, 'longer': 0, 'and': 0, 'forget': 0, 'all': 0, 'this': 0, 'nonsense\",': 0, 'he': 0, 'thought,': 0, 'but': 0, 'that': 0, 'was': 0, 'something': 0, 'unable': 0, 'do': 0, 'because': 0, 'used': 0, 'sleeping': 0, 'on': 0, 'his': 0, 'right,': 0, 'in': 0, 'present': 0, 'state': 0, \"couldn't\": 0, 'get': 0, 'into': 0, 'position.': 0, 'however': 0, 'hard': 0, 'threw': 0, 'himself': 0, 'onto': 0, 'always': 0, 'rolled': 0, 'back': 0, 'where': 0, 'was.': 0, 'must': 0, 'have': 0, 'tried': 0, 'it': 0, 'hundred': 0, 'times,': 0, 'shut': 0, 'eyes': 0, 'so': 0, \"wouldn't\": 0, 'floundering': 0, 'legs,': 0, 'only': 0, 'stopped': 0, 'when': 0, 'began': 0, 'mild,': 0, 'pain': 0, 'there': 0, 'had': 0, 'never': 0, 'felt': 0, 'before.': 0}\n"
     ]
    }
   ],
   "source": [
    "freq = {}\n",
    "index = 0\n",
    "while index < len(words):\n",
    "    word = words[index].lower()\n",
    "#    print(word)\n",
    "    freq[word] = 0\n",
    "    index += 1\n",
    "print(freq)    \n"
   ]
  },
  {
   "cell_type": "code",
   "execution_count": 27,
   "metadata": {
    "collapsed": true
   },
   "outputs": [],
   "source": [
    "a = 6"
   ]
  },
  {
   "cell_type": "code",
   "execution_count": 28,
   "metadata": {
    "collapsed": false
   },
   "outputs": [
    {
     "data": {
      "text/plain": [
       "6"
      ]
     },
     "execution_count": 28,
     "metadata": {},
     "output_type": "execute_result"
    }
   ],
   "source": [
    "a"
   ]
  },
  {
   "cell_type": "code",
   "execution_count": 29,
   "metadata": {
    "collapsed": false
   },
   "outputs": [
    {
     "data": {
      "text/plain": [
       "5"
      ]
     },
     "execution_count": 29,
     "metadata": {},
     "output_type": "execute_result"
    }
   ],
   "source": [
    "a = 5\n",
    "a"
   ]
  },
  {
   "cell_type": "code",
   "execution_count": null,
   "metadata": {
    "collapsed": true
   },
   "outputs": [],
   "source": []
  },
  {
   "cell_type": "code",
   "execution_count": null,
   "metadata": {
    "collapsed": true
   },
   "outputs": [],
   "source": []
  },
  {
   "cell_type": "code",
   "execution_count": 17,
   "metadata": {
    "collapsed": true
   },
   "outputs": [],
   "source": [
    "names = ['harry' , 'ron' , 'hermaine']"
   ]
  },
  {
   "cell_type": "code",
   "execution_count": 18,
   "metadata": {
    "collapsed": true
   },
   "outputs": [],
   "source": [
    "names[0] = 'neville' "
   ]
  },
  {
   "cell_type": "code",
   "execution_count": 19,
   "metadata": {
    "collapsed": false
   },
   "outputs": [
    {
     "data": {
      "text/plain": [
       "['neville', 'ron', 'hermaine']"
      ]
     },
     "execution_count": 19,
     "metadata": {},
     "output_type": "execute_result"
    }
   ],
   "source": [
    "names"
   ]
  },
  {
   "cell_type": "markdown",
   "metadata": {},
   "source": [
    "- list are mutable"
   ]
  },
  {
   "cell_type": "code",
   "execution_count": 20,
   "metadata": {
    "collapsed": true
   },
   "outputs": [],
   "source": [
    "names = 'dumbledore'"
   ]
  },
  {
   "cell_type": "code",
   "execution_count": 21,
   "metadata": {
    "collapsed": false
   },
   "outputs": [
    {
     "data": {
      "text/plain": [
       "'d'"
      ]
     },
     "execution_count": 21,
     "metadata": {},
     "output_type": "execute_result"
    }
   ],
   "source": [
    "names[0]"
   ]
  },
  {
   "cell_type": "code",
   "execution_count": 22,
   "metadata": {
    "collapsed": false
   },
   "outputs": [
    {
     "ename": "TypeError",
     "evalue": "'str' object does not support item assignment",
     "output_type": "error",
     "traceback": [
      "\u001b[0;31m---------------------------------------------------------------------------\u001b[0m",
      "\u001b[0;31mTypeError\u001b[0m                                 Traceback (most recent call last)",
      "\u001b[0;32m<ipython-input-22-2f5154f9df94>\u001b[0m in \u001b[0;36m<module>\u001b[0;34m()\u001b[0m\n\u001b[0;32m----> 1\u001b[0;31m \u001b[0mnames\u001b[0m\u001b[1;33m[\u001b[0m\u001b[1;36m0\u001b[0m\u001b[1;33m]\u001b[0m \u001b[1;33m=\u001b[0m \u001b[1;34m'p'\u001b[0m\u001b[1;33m\u001b[0m\u001b[0m\n\u001b[0m",
      "\u001b[0;31mTypeError\u001b[0m: 'str' object does not support item assignment"
     ]
    }
   ],
   "source": [
    "names[0] = 'p'"
   ]
  },
  {
   "cell_type": "code",
   "execution_count": 24,
   "metadata": {
    "collapsed": false
   },
   "outputs": [
    {
     "data": {
      "text/plain": [
       "'dumbledore'"
      ]
     },
     "execution_count": 24,
     "metadata": {},
     "output_type": "execute_result"
    }
   ],
   "source": [
    "names"
   ]
  },
  {
   "cell_type": "markdown",
   "metadata": {},
   "source": [
    "- string is immutable"
   ]
  },
  {
   "cell_type": "code",
   "execution_count": 30,
   "metadata": {
    "collapsed": true
   },
   "outputs": [],
   "source": [
    "freq = { 'harry': 5 }"
   ]
  },
  {
   "cell_type": "code",
   "execution_count": 31,
   "metadata": {
    "collapsed": false
   },
   "outputs": [
    {
     "data": {
      "text/plain": [
       "5"
      ]
     },
     "execution_count": 31,
     "metadata": {},
     "output_type": "execute_result"
    }
   ],
   "source": [
    "freq['harry']"
   ]
  },
  {
   "cell_type": "code",
   "execution_count": 32,
   "metadata": {
    "collapsed": false
   },
   "outputs": [
    {
     "ename": "KeyError",
     "evalue": "0",
     "output_type": "error",
     "traceback": [
      "\u001b[0;31m---------------------------------------------------------------------------\u001b[0m",
      "\u001b[0;31mKeyError\u001b[0m                                  Traceback (most recent call last)",
      "\u001b[0;32m<ipython-input-32-533c3296910f>\u001b[0m in \u001b[0;36m<module>\u001b[0;34m()\u001b[0m\n\u001b[0;32m----> 1\u001b[0;31m \u001b[0mfreq\u001b[0m\u001b[1;33m[\u001b[0m\u001b[1;36m0\u001b[0m\u001b[1;33m]\u001b[0m\u001b[1;33m\u001b[0m\u001b[0m\n\u001b[0m",
      "\u001b[0;31mKeyError\u001b[0m: 0"
     ]
    }
   ],
   "source": [
    "freq[0]"
   ]
  },
  {
   "cell_type": "code",
   "execution_count": 33,
   "metadata": {
    "collapsed": true
   },
   "outputs": [],
   "source": [
    "freq[0] = 99"
   ]
  },
  {
   "cell_type": "code",
   "execution_count": 34,
   "metadata": {
    "collapsed": false
   },
   "outputs": [
    {
     "data": {
      "text/plain": [
       "99"
      ]
     },
     "execution_count": 34,
     "metadata": {},
     "output_type": "execute_result"
    }
   ],
   "source": [
    "freq[0]"
   ]
  },
  {
   "cell_type": "code",
   "execution_count": 35,
   "metadata": {
    "collapsed": false
   },
   "outputs": [
    {
     "data": {
      "text/plain": [
       "{'harry': 5, 0: 99}"
      ]
     },
     "execution_count": 35,
     "metadata": {},
     "output_type": "execute_result"
    }
   ],
   "source": [
    "freq"
   ]
  },
  {
   "cell_type": "code",
   "execution_count": 41,
   "metadata": {
    "collapsed": false
   },
   "outputs": [
    {
     "name": "stdout",
     "output_type": "stream",
     "text": [
      "{\"'\": 0, 'gregor': 0, 'then': 0, 'turned': 0, 'to': 0, 'look': 0, 'out': 0, 'the': 0, 'window': 0, 'at': 0, 'dull': 0, 'weather': 0, 'drops': 0, 'of': 0, 'rain': 0, 'could': 0, 'be': 0, 'heard': 0, 'hitting': 0, 'pane': 0, 'which': 0, 'made': 0, 'him': 0, 'feel': 0, 'quite': 0, 'sad': 0, '\"how': 0, 'about': 0, 'if': 0, 'i': 0, 'sleep': 0, 'a': 0, 'little': 0, 'bit': 0, 'longer': 0, 'and': 0, 'forget': 0, 'all': 0, 'this': 0, 'nonsense\"': 0, 'he': 0, 'thought': 0, 'but': 0, 'that': 0, 'was': 0, 'something': 0, 'unable': 0, 'do': 0, 'because': 0, 'used': 0, 'sleeping': 0, 'on': 0, 'his': 0, 'right': 0, 'in': 0, 'present': 0, 'state': 0, \"couldn't\": 0, 'get': 0, 'into': 0, 'position': 0, 'however': 0, 'hard': 0, 'threw': 0, 'himself': 0, 'onto': 0, 'always': 0, 'rolled': 0, 'back': 0, 'where': 0, 'must': 0, 'have': 0, 'tried': 0, 'it': 0, 'hundred': 0, 'times': 0, 'shut': 0, 'eyes': 0, 'so': 0, \"wouldn't\": 0, 'floundering': 0, 'legs': 0, 'only': 0, 'stopped': 0, 'when': 0, 'began': 0, 'mild': 0, 'pain': 0, 'there': 0, 'had': 0, 'never': 0, 'felt': 0, 'before': 0}\n"
     ]
    }
   ],
   "source": [
    "freq = {}\n",
    "index = 0\n",
    "while index < len(words):\n",
    "    word = words[index].strip('.').strip(',').lower()\n",
    "    #word = words[index]\n",
    "    #word = word.strip('.)\n",
    "    #word = word.strip(',)\n",
    "    #word = word.lower()\n",
    "    #print(word)\n",
    "    freq[word] = 0\n",
    "    index += 1\n",
    "print(freq)"
   ]
  },
  {
   "cell_type": "code",
   "execution_count": 42,
   "metadata": {
    "collapsed": false
   },
   "outputs": [
    {
     "data": {
      "text/plain": [
       "False"
      ]
     },
     "execution_count": 42,
     "metadata": {},
     "output_type": "execute_result"
    }
   ],
   "source": [
    "222 < len(words)"
   ]
  },
  {
   "cell_type": "code",
   "execution_count": 43,
   "metadata": {
    "collapsed": false
   },
   "outputs": [
    {
     "data": {
      "text/plain": [
       "True"
      ]
     },
     "execution_count": 43,
     "metadata": {},
     "output_type": "execute_result"
    }
   ],
   "source": [
    "120 < len(words)"
   ]
  },
  {
   "cell_type": "code",
   "execution_count": 47,
   "metadata": {
    "collapsed": false
   },
   "outputs": [
    {
     "name": "stdout",
     "output_type": "stream",
     "text": [
      "{\"'\": 1, 'gregor': 1, 'then': 1, 'turned': 1, 'to': 6, 'look': 2, 'out': 1, 'the': 4, 'window': 1, 'at': 2, 'dull': 2, 'weather': 1, 'drops': 1, 'of': 1, 'rain': 1, 'could': 1, 'be': 1, 'heard': 1, 'hitting': 1, 'pane': 1, 'which': 1, 'made': 1, 'him': 1, 'feel': 2, 'quite': 1, 'sad': 1, '\"how': 1, 'about': 1, 'if': 1, 'i': 1, 'sleep': 1, 'a': 3, 'little': 1, 'bit': 1, 'longer': 1, 'and': 3, 'forget': 1, 'all': 1, 'this': 1, 'nonsense\"': 1, 'he': 10, 'thought': 1, 'but': 1, 'that': 4, 'was': 4, 'something': 1, 'unable': 1, 'do': 1, 'because': 1, 'used': 1, 'sleeping': 1, 'on': 1, 'his': 4, 'right': 2, 'in': 1, 'present': 1, 'state': 1, \"couldn't\": 1, 'get': 1, 'into': 1, 'position': 1, 'however': 1, 'hard': 1, 'threw': 1, 'himself': 1, 'onto': 1, 'always': 1, 'rolled': 1, 'back': 1, 'where': 1, 'must': 1, 'have': 2, 'tried': 1, 'it': 1, 'hundred': 1, 'times': 1, 'shut': 1, 'eyes': 1, 'so': 1, \"wouldn't\": 1, 'floundering': 1, 'legs': 1, 'only': 1, 'stopped': 1, 'when': 1, 'began': 1, 'mild': 1, 'pain': 1, 'there': 1, 'had': 1, 'never': 1, 'felt': 1, 'before': 1}\n"
     ]
    }
   ],
   "source": [
    "freq = {}\n",
    "index = 0\n",
    "while index < len(words):\n",
    "    word = words[index].strip('.').strip(',').lower()\n",
    "    if word in freq:\n",
    "        freq[word] +=1\n",
    "    else:\n",
    "         freq[word] = 1\n",
    "    index += 1\n",
    "print(freq)            "
   ]
  },
  {
   "cell_type": "code",
   "execution_count": 49,
   "metadata": {
    "collapsed": false
   },
   "outputs": [
    {
     "name": "stdout",
     "output_type": "stream",
     "text": [
      "'\n",
      "gregor\n",
      "then\n",
      "turned\n",
      "to\n",
      "look\n",
      "out\n",
      "the\n",
      "window\n",
      "at\n",
      "dull\n",
      "weather\n",
      "drops\n",
      "of\n",
      "rain\n",
      "could\n",
      "be\n",
      "heard\n",
      "hitting\n",
      "pane\n",
      "which\n",
      "made\n",
      "him\n",
      "feel\n",
      "quite\n",
      "sad\n",
      "\"how\n",
      "about\n",
      "if\n",
      "i\n",
      "sleep\n",
      "a\n",
      "little\n",
      "bit\n",
      "longer\n",
      "and\n",
      "forget\n",
      "all\n",
      "this\n",
      "nonsense\"\n",
      "he\n",
      "thought\n",
      "but\n",
      "that\n",
      "was\n",
      "something\n",
      "unable\n",
      "do\n",
      "because\n",
      "used\n",
      "sleeping\n",
      "on\n",
      "his\n",
      "right\n",
      "in\n",
      "present\n",
      "state\n",
      "couldn't\n",
      "get\n",
      "into\n",
      "position\n",
      "however\n",
      "hard\n",
      "threw\n",
      "himself\n",
      "onto\n",
      "always\n",
      "rolled\n",
      "back\n",
      "where\n",
      "must\n",
      "have\n",
      "tried\n",
      "it\n",
      "hundred\n",
      "times\n",
      "shut\n",
      "eyes\n",
      "so\n",
      "wouldn't\n",
      "floundering\n",
      "legs\n",
      "only\n",
      "stopped\n",
      "when\n",
      "began\n",
      "mild\n",
      "pain\n",
      "there\n",
      "had\n",
      "never\n",
      "felt\n",
      "before\n"
     ]
    }
   ],
   "source": [
    "for item in freq:\n",
    "    print(item)"
   ]
  },
  {
   "cell_type": "code",
   "execution_count": 50,
   "metadata": {
    "collapsed": false
   },
   "outputs": [
    {
     "name": "stdout",
     "output_type": "stream",
     "text": [
      "paragraph has 1 \"'\"\n",
      "paragraph has 1 \"gregor\"\n",
      "paragraph has 1 \"then\"\n",
      "paragraph has 1 \"turned\"\n",
      "paragraph has 6 \"to\"\n",
      "paragraph has 2 \"look\"\n",
      "paragraph has 1 \"out\"\n",
      "paragraph has 4 \"the\"\n",
      "paragraph has 1 \"window\"\n",
      "paragraph has 2 \"at\"\n",
      "paragraph has 2 \"dull\"\n",
      "paragraph has 1 \"weather\"\n",
      "paragraph has 1 \"drops\"\n",
      "paragraph has 1 \"of\"\n",
      "paragraph has 1 \"rain\"\n",
      "paragraph has 1 \"could\"\n",
      "paragraph has 1 \"be\"\n",
      "paragraph has 1 \"heard\"\n",
      "paragraph has 1 \"hitting\"\n",
      "paragraph has 1 \"pane\"\n",
      "paragraph has 1 \"which\"\n",
      "paragraph has 1 \"made\"\n",
      "paragraph has 1 \"him\"\n",
      "paragraph has 2 \"feel\"\n",
      "paragraph has 1 \"quite\"\n",
      "paragraph has 1 \"sad\"\n",
      "paragraph has 1 \"\"how\"\n",
      "paragraph has 1 \"about\"\n",
      "paragraph has 1 \"if\"\n",
      "paragraph has 1 \"i\"\n",
      "paragraph has 1 \"sleep\"\n",
      "paragraph has 3 \"a\"\n",
      "paragraph has 1 \"little\"\n",
      "paragraph has 1 \"bit\"\n",
      "paragraph has 1 \"longer\"\n",
      "paragraph has 3 \"and\"\n",
      "paragraph has 1 \"forget\"\n",
      "paragraph has 1 \"all\"\n",
      "paragraph has 1 \"this\"\n",
      "paragraph has 1 \"nonsense\"\"\n",
      "paragraph has 10 \"he\"\n",
      "paragraph has 1 \"thought\"\n",
      "paragraph has 1 \"but\"\n",
      "paragraph has 4 \"that\"\n",
      "paragraph has 4 \"was\"\n",
      "paragraph has 1 \"something\"\n",
      "paragraph has 1 \"unable\"\n",
      "paragraph has 1 \"do\"\n",
      "paragraph has 1 \"because\"\n",
      "paragraph has 1 \"used\"\n",
      "paragraph has 1 \"sleeping\"\n",
      "paragraph has 1 \"on\"\n",
      "paragraph has 4 \"his\"\n",
      "paragraph has 2 \"right\"\n",
      "paragraph has 1 \"in\"\n",
      "paragraph has 1 \"present\"\n",
      "paragraph has 1 \"state\"\n",
      "paragraph has 1 \"couldn't\"\n",
      "paragraph has 1 \"get\"\n",
      "paragraph has 1 \"into\"\n",
      "paragraph has 1 \"position\"\n",
      "paragraph has 1 \"however\"\n",
      "paragraph has 1 \"hard\"\n",
      "paragraph has 1 \"threw\"\n",
      "paragraph has 1 \"himself\"\n",
      "paragraph has 1 \"onto\"\n",
      "paragraph has 1 \"always\"\n",
      "paragraph has 1 \"rolled\"\n",
      "paragraph has 1 \"back\"\n",
      "paragraph has 1 \"where\"\n",
      "paragraph has 1 \"must\"\n",
      "paragraph has 2 \"have\"\n",
      "paragraph has 1 \"tried\"\n",
      "paragraph has 1 \"it\"\n",
      "paragraph has 1 \"hundred\"\n",
      "paragraph has 1 \"times\"\n",
      "paragraph has 1 \"shut\"\n",
      "paragraph has 1 \"eyes\"\n",
      "paragraph has 1 \"so\"\n",
      "paragraph has 1 \"wouldn't\"\n",
      "paragraph has 1 \"floundering\"\n",
      "paragraph has 1 \"legs\"\n",
      "paragraph has 1 \"only\"\n",
      "paragraph has 1 \"stopped\"\n",
      "paragraph has 1 \"when\"\n",
      "paragraph has 1 \"began\"\n",
      "paragraph has 1 \"mild\"\n",
      "paragraph has 1 \"pain\"\n",
      "paragraph has 1 \"there\"\n",
      "paragraph has 1 \"had\"\n",
      "paragraph has 1 \"never\"\n",
      "paragraph has 1 \"felt\"\n",
      "paragraph has 1 \"before\"\n"
     ]
    }
   ],
   "source": [
    "for item in freq:\n",
    "    print('paragraph has {} \"{}\"' .format(freq[item], item))"
   ]
  },
  {
   "cell_type": "code",
   "execution_count": null,
   "metadata": {
    "collapsed": true
   },
   "outputs": [],
   "source": []
  },
  {
   "cell_type": "code",
   "execution_count": null,
   "metadata": {
    "collapsed": true
   },
   "outputs": [],
   "source": []
  },
  {
   "cell_type": "code",
   "execution_count": null,
   "metadata": {
    "collapsed": true
   },
   "outputs": [],
   "source": []
  }
 ],
 "metadata": {
  "kernelspec": {
   "display_name": "Python 3",
   "language": "python",
   "name": "python3"
  },
  "language_info": {
   "codemirror_mode": {
    "name": "ipython",
    "version": 3
   },
   "file_extension": ".py",
   "mimetype": "text/x-python",
   "name": "python",
   "nbconvert_exporter": "python",
   "pygments_lexer": "ipython3",
   "version": "3.6.0"
  }
 },
 "nbformat": 4,
 "nbformat_minor": 2
}
